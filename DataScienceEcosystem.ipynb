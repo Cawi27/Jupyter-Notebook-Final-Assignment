{
 "cells": [
  {
   "cell_type": "markdown",
   "id": "1d9b6fc9-c678-46d1-a77a-3e36e6689584",
   "metadata": {
    "tags": []
   },
   "source": [
    "# Data Science Tools and Ecosystem"
   ]
  },
  {
   "cell_type": "markdown",
   "id": "3dcf8857-044c-4d5c-b270-b6dc1cf9bac2",
   "metadata": {},
   "source": [
    "In this notebook, Data Science Tools and Ecosystem are summarized."
   ]
  },
  {
   "cell_type": "markdown",
   "id": "ba13ee20-9f4f-4739-a82c-f2daad6649a4",
   "metadata": {},
   "source": [
    "**Objectives:**\n",
    "- List popular languages for Data Science\n",
    "- List commonly used libraries\n",
    "- List Data Science Tools\n",
    "- Arithmetic expressions in Python"
   ]
  },
  {
   "cell_type": "markdown",
   "id": "69cdafe8-30a5-4a1b-b675-39439f32ec75",
   "metadata": {},
   "source": [
    "Some of the popular languages that Data Scientists use are:\n",
    "1. Python\n",
    "2. R\n",
    "3. Julia"
   ]
  },
  {
   "cell_type": "markdown",
   "id": "48674945-17e7-4af5-9331-eefa690837d3",
   "metadata": {},
   "source": [
    "Some of the commonly used libraries used by Data Scientists include:\n",
    "1. SciPy\n",
    "2. Pandas\n",
    "3. NumPy\n"
   ]
  },
  {
   "cell_type": "markdown",
   "id": "863eff2e-b10c-46ea-a7ba-2ab57a4ce12e",
   "metadata": {},
   "source": [
    "|Data Science Tools|\n",
    "|------------------|\n",
    "|VS Code|\n",
    "|R Studio|\n",
    "|Jupyter|"
   ]
  },
  {
   "cell_type": "markdown",
   "id": "e93b12e9-7104-4892-8b79-94b9264da89f",
   "metadata": {},
   "source": [
    "### Below are a few examples of evaluating arithmetic expressions in Python\n"
   ]
  },
  {
   "cell_type": "code",
   "execution_count": 5,
   "id": "2f8149f4-a70d-409f-8407-baff0dcbcba4",
   "metadata": {
    "collapsed": true,
    "jupyter": {
     "outputs_hidden": true
    },
    "tags": []
   },
   "outputs": [
    {
     "data": {
      "text/plain": [
       "17"
      ]
     },
     "execution_count": 5,
     "metadata": {},
     "output_type": "execute_result"
    }
   ],
   "source": [
    "# This a simple arithmetic expression to mutiply then add integers\n",
    "(3*4)+5"
   ]
  },
  {
   "cell_type": "code",
   "execution_count": 6,
   "id": "de3257ba-b085-4856-bfc2-ec7c301ac7da",
   "metadata": {},
   "outputs": [
    {
     "data": {
      "text/plain": [
       "3.3333333333333335"
      ]
     },
     "execution_count": 6,
     "metadata": {},
     "output_type": "execute_result"
    }
   ],
   "source": [
    "# This will convert 200 minutes to hours by diving by 60\n",
    "200/60"
   ]
  },
  {
   "cell_type": "markdown",
   "id": "12e27613-6c13-4a52-a239-19179d2a823d",
   "metadata": {},
   "source": [
    "## Author ##\n",
    "Wilson Carvalho"
   ]
  },
  {
   "cell_type": "code",
   "execution_count": null,
   "id": "2924c490-0e96-457f-affa-d4e446c427c0",
   "metadata": {},
   "outputs": [],
   "source": []
  }
 ],
 "metadata": {
  "kernelspec": {
   "display_name": "Python",
   "language": "python",
   "name": "conda-env-python-py"
  },
  "language_info": {
   "codemirror_mode": {
    "name": "ipython",
    "version": 3
   },
   "file_extension": ".py",
   "mimetype": "text/x-python",
   "name": "python",
   "nbconvert_exporter": "python",
   "pygments_lexer": "ipython3",
   "version": "3.7.12"
  }
 },
 "nbformat": 4,
 "nbformat_minor": 5
}
